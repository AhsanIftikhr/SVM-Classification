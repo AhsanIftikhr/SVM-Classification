{
  "nbformat": 4,
  "nbformat_minor": 0,
  "metadata": {
    "colab": {
      "provenance": []
    },
    "kernelspec": {
      "name": "python3",
      "display_name": "Python 3"
    },
    "language_info": {
      "name": "python"
    }
  },
  "cells": [
    {
      "cell_type": "code",
      "execution_count": 2,
      "metadata": {
        "colab": {
          "base_uri": "https://localhost:8080/"
        },
        "id": "oxilDdZTlzqb",
        "outputId": "82ea195d-01d7-4525-c516-806d851f4e54"
      },
      "outputs": [
        {
          "output_type": "stream",
          "name": "stdout",
          "text": [
            "Dataset shape: (17898, 9)\n"
          ]
        }
      ],
      "source": [
        "# Importing required libraries\n",
        "import pandas as pd\n",
        "import numpy as np\n",
        "import matplotlib.pyplot as plt\n",
        "import seaborn as sns\n",
        "\n",
        "# Machine learning libraries\n",
        "from sklearn.model_selection import train_test_split\n",
        "from sklearn.preprocessing import StandardScaler\n",
        "from sklearn.svm import SVC\n",
        "from sklearn.metrics import accuracy_score, classification_report\n",
        "\n",
        "# Load dataset\n",
        "df = pd.read_csv('pulsar_stars.csv')  # change filename if needed\n",
        "\n",
        "# 1. View dimensions of dataset\n",
        "print(\"Dataset shape:\", df.shape)\n",
        "\n",
        "\n"
      ]
    },
    {
      "cell_type": "code",
      "source": [
        "# 2. Preview the dataset\n",
        "# type(df)\n",
        "print(df.head())\n"
      ],
      "metadata": {
        "colab": {
          "base_uri": "https://localhost:8080/"
        },
        "id": "aYIm2YNCnWbh",
        "outputId": "c698d932-8c80-4b0a-84e9-77f1aacb6d8c"
      },
      "execution_count": 34,
      "outputs": [
        {
          "output_type": "stream",
          "name": "stdout",
          "text": [
            "      ip_mean     ip_std  ip_kurtosis  ip_skewness   dm_mean     dm_std  \\\n",
            "0  140.562500  55.683782    -0.234571    -0.699648  3.199833  19.110426   \n",
            "1  102.507812  58.882430     0.465318    -0.515088  1.677258  14.860146   \n",
            "2  103.015625  39.341649     0.323328     1.051164  3.121237  21.744669   \n",
            "3  136.750000  57.178449    -0.068415    -0.636238  3.642977  20.959280   \n",
            "4   88.726562  40.672225     0.600866     1.123492  1.178930  11.468720   \n",
            "\n",
            "   dm_kurtosis  dm_skewness  target_class  \n",
            "0     7.975532    74.242225             0  \n",
            "1    10.576487   127.393580             0  \n",
            "2     7.735822    63.171909             0  \n",
            "3     6.896499    53.593661             0  \n",
            "4    14.269573   252.567306             0  \n"
          ]
        }
      ]
    },
    {
      "cell_type": "code",
      "source": [
        "# 3. View the column names\n",
        "print(\"Original columns:\", df.columns.tolist())"
      ],
      "metadata": {
        "colab": {
          "base_uri": "https://localhost:8080/"
        },
        "id": "W3HsTqPZnWsI",
        "outputId": "0d349b1d-4a3b-4c17-99bf-e7bc7f48a0aa"
      },
      "execution_count": 4,
      "outputs": [
        {
          "output_type": "stream",
          "name": "stdout",
          "text": [
            "Original columns: [' Mean of the integrated profile', ' Standard deviation of the integrated profile', ' Excess kurtosis of the integrated profile', ' Skewness of the integrated profile', ' Mean of the DM-SNR curve', ' Standard deviation of the DM-SNR curve', ' Excess kurtosis of the DM-SNR curve', ' Skewness of the DM-SNR curve', 'target_class']\n"
          ]
        }
      ]
    },
    {
      "cell_type": "code",
      "source": [
        "\n",
        "# 4. Remove leading spaces in column names\n",
        "df.columns = df.columns.str.strip()"
      ],
      "metadata": {
        "id": "CzfvYtaXnW8R"
      },
      "execution_count": 5,
      "outputs": []
    },
    {
      "cell_type": "code",
      "source": [
        "# 5. View column names again\n",
        "print(\"Cleaned columns:\", df.columns.tolist())\n"
      ],
      "metadata": {
        "colab": {
          "base_uri": "https://localhost:8080/"
        },
        "id": "z0DeuhnwnXK4",
        "outputId": "15270a73-7592-4f1d-d66c-5caa9fd1e42b"
      },
      "execution_count": 6,
      "outputs": [
        {
          "output_type": "stream",
          "name": "stdout",
          "text": [
            "Cleaned columns: ['Mean of the integrated profile', 'Standard deviation of the integrated profile', 'Excess kurtosis of the integrated profile', 'Skewness of the integrated profile', 'Mean of the DM-SNR curve', 'Standard deviation of the DM-SNR curve', 'Excess kurtosis of the DM-SNR curve', 'Skewness of the DM-SNR curve', 'target_class']\n"
          ]
        }
      ]
    },
    {
      "cell_type": "code",
      "source": [
        "# 6. Rename columns (if needed) - OPTIONAL\n",
        "df.columns = [\n",
        "    'ip_mean',         # Mean of the integrated profile\n",
        "    'ip_std',          # Standard deviation of the integrated profile\n",
        "    'ip_kurtosis',     # Excess kurtosis of the integrated profile\n",
        "    'ip_skewness',     # Skewness of the integrated profile\n",
        "    'dm_mean',         # Mean of the DM-SNR curve\n",
        "    'dm_std',          # Standard deviation of the DM-SNR curve\n",
        "    'dm_kurtosis',     # Excess kurtosis of the DM-SNR curve\n",
        "    'dm_skewness',     # Skewness of the DM-SNR curve\n",
        "    'target_class'     # target_class (already fine)\n",
        "]"
      ],
      "metadata": {
        "id": "ssLM0AvtrBGz"
      },
      "execution_count": 9,
      "outputs": []
    },
    {
      "cell_type": "code",
      "source": [
        "# 7. View renamed columns\n",
        "print(\"Final columns:\", df.columns.tolist())\n",
        "\n"
      ],
      "metadata": {
        "colab": {
          "base_uri": "https://localhost:8080/"
        },
        "id": "n68xng-FnXag",
        "outputId": "05923bf7-1b05-4d3a-d3e6-0bd820acb55f"
      },
      "execution_count": 10,
      "outputs": [
        {
          "output_type": "stream",
          "name": "stdout",
          "text": [
            "Final columns: ['ip_mean', 'ip_std', 'ip_kurtosis', 'ip_skewness', 'dm_mean', 'dm_std', 'dm_kurtosis', 'dm_skewness', 'target_class']\n"
          ]
        }
      ]
    },
    {
      "cell_type": "code",
      "source": [
        "# 8. Check distribution of target_class column\n",
        "print(\"Class distribution:\\n\", df['target_class'].value_counts())\n",
        "\n"
      ],
      "metadata": {
        "colab": {
          "base_uri": "https://localhost:8080/"
        },
        "id": "ncxxFL0dn8mp",
        "outputId": "62d7892a-2b7f-4cd3-9ac7-f867f3b0ba20"
      },
      "execution_count": 11,
      "outputs": [
        {
          "output_type": "stream",
          "name": "stdout",
          "text": [
            "Class distribution:\n",
            " target_class\n",
            "0    16259\n",
            "1     1639\n",
            "Name: count, dtype: int64\n"
          ]
        }
      ]
    },
    {
      "cell_type": "code",
      "source": [
        "# 9. Percentage distribution of target_class\n",
        "print(\"Percentage distribution:\\n\", df['target_class'].value_counts(normalize=True) * 100)\n",
        "\n"
      ],
      "metadata": {
        "colab": {
          "base_uri": "https://localhost:8080/"
        },
        "id": "3D8DxsoBn-3o",
        "outputId": "4293f58c-9214-49b2-c061-9ec42cd1e0ed"
      },
      "execution_count": 12,
      "outputs": [
        {
          "output_type": "stream",
          "name": "stdout",
          "text": [
            "Percentage distribution:\n",
            " target_class\n",
            "0    90.842552\n",
            "1     9.157448\n",
            "Name: proportion, dtype: float64\n"
          ]
        }
      ]
    },
    {
      "cell_type": "code",
      "source": [
        "# 10. Dataset info summary\n",
        "print(\"\\nDataset Info:\")\n",
        "print(df.info())\n",
        "\n"
      ],
      "metadata": {
        "colab": {
          "base_uri": "https://localhost:8080/"
        },
        "id": "Sz1vRcUCoBIq",
        "outputId": "3361c0f8-ab9e-4077-f33c-3f373d0cbc7b"
      },
      "execution_count": 13,
      "outputs": [
        {
          "output_type": "stream",
          "name": "stdout",
          "text": [
            "\n",
            "Dataset Info:\n",
            "<class 'pandas.core.frame.DataFrame'>\n",
            "RangeIndex: 17898 entries, 0 to 17897\n",
            "Data columns (total 9 columns):\n",
            " #   Column        Non-Null Count  Dtype  \n",
            "---  ------        --------------  -----  \n",
            " 0   ip_mean       17898 non-null  float64\n",
            " 1   ip_std        17898 non-null  float64\n",
            " 2   ip_kurtosis   17898 non-null  float64\n",
            " 3   ip_skewness   17898 non-null  float64\n",
            " 4   dm_mean       17898 non-null  float64\n",
            " 5   dm_std        17898 non-null  float64\n",
            " 6   dm_kurtosis   17898 non-null  float64\n",
            " 7   dm_skewness   17898 non-null  float64\n",
            " 8   target_class  17898 non-null  int64  \n",
            "dtypes: float64(8), int64(1)\n",
            "memory usage: 1.2 MB\n",
            "None\n"
          ]
        }
      ]
    },
    {
      "cell_type": "code",
      "source": [
        "# 11. Check for missing values\n",
        "print(\"\\nMissing values:\\n\", df.isnull().sum())\n",
        "\n"
      ],
      "metadata": {
        "colab": {
          "base_uri": "https://localhost:8080/"
        },
        "id": "UYlLa48boEBn",
        "outputId": "ef2358ff-bef8-42cc-989e-386766a77bbb"
      },
      "execution_count": 14,
      "outputs": [
        {
          "output_type": "stream",
          "name": "stdout",
          "text": [
            "\n",
            "Missing values:\n",
            " ip_mean         0\n",
            "ip_std          0\n",
            "ip_kurtosis     0\n",
            "ip_skewness     0\n",
            "dm_mean         0\n",
            "dm_std          0\n",
            "dm_kurtosis     0\n",
            "dm_skewness     0\n",
            "target_class    0\n",
            "dtype: int64\n"
          ]
        }
      ]
    },
    {
      "cell_type": "code",
      "source": [
        "# 12. Summary stats of numeric variables\n",
        "print(\"\\nSummary statistics:\\n\", df.describe())\n",
        "\n"
      ],
      "metadata": {
        "colab": {
          "base_uri": "https://localhost:8080/"
        },
        "id": "MMLEivOjoMb4",
        "outputId": "35a576d4-c6db-40b5-8172-df0b68f1045f"
      },
      "execution_count": 15,
      "outputs": [
        {
          "output_type": "stream",
          "name": "stdout",
          "text": [
            "\n",
            "Summary statistics:\n",
            "             ip_mean        ip_std   ip_kurtosis   ip_skewness       dm_mean  \\\n",
            "count  17898.000000  17898.000000  17898.000000  17898.000000  17898.000000   \n",
            "mean     111.079968     46.549532      0.477857      1.770279     12.614400   \n",
            "std       25.652935      6.843189      1.064040      6.167913     29.472897   \n",
            "min        5.812500     24.772042     -1.876011     -1.791886      0.213211   \n",
            "25%      100.929688     42.376018      0.027098     -0.188572      1.923077   \n",
            "50%      115.078125     46.947479      0.223240      0.198710      2.801839   \n",
            "75%      127.085938     51.023202      0.473325      0.927783      5.464256   \n",
            "max      192.617188     98.778911      8.069522     68.101622    223.392141   \n",
            "\n",
            "             dm_std   dm_kurtosis   dm_skewness  target_class  \n",
            "count  17898.000000  17898.000000  17898.000000  17898.000000  \n",
            "mean      26.326515      8.303556    104.857709      0.091574  \n",
            "std       19.470572      4.506092    106.514540      0.288432  \n",
            "min        7.370432     -3.139270     -1.976976      0.000000  \n",
            "25%       14.437332      5.781506     34.960504      0.000000  \n",
            "50%       18.461316      8.433515     83.064556      0.000000  \n",
            "75%       28.428104     10.702959    139.309330      0.000000  \n",
            "max      110.642211     34.539844   1191.000837      1.000000  \n"
          ]
        }
      ]
    },
    {
      "cell_type": "code",
      "source": [
        "# 13. Boxplots to check for outliers\n",
        "numeric_cols = df.select_dtypes(include=np.number).columns.tolist()\n",
        "for col in numeric_cols:\n",
        "    plt.figure(figsize=(6, 3))\n",
        "    sns.boxplot(x=df[col])\n",
        "    plt.title(f'Boxplot for {col}')\n",
        "    plt.show()\n"
      ],
      "metadata": {
        "colab": {
          "base_uri": "https://localhost:8080/",
          "height": 1000
        },
        "id": "DWqxz4VloPLB",
        "outputId": "dd794333-2458-421f-838b-6dffb9cd48da"
      },
      "execution_count": 16,
      "outputs": [
        {
          "output_type": "display_data",
          "data": {
            "text/plain": [
              "<Figure size 600x300 with 1 Axes>"
            ],
            "image/png": "[encoded data removed]"
          },
          "metadata": {}
        },
        {
          "output_type": "display_data",
          "data": {
            "text/plain": [
              "<Figure size 600x300 with 1 Axes>"
            ],
            "image/png": "[encoded data removed]"
          },
          "metadata": {}
        },
        {
          "output_type": "display_data",
          "data": {
            "text/plain": [
              "<Figure size 600x300 with 1 Axes>"
            ],
            "image/png": "[encoded data removed]"
          },
          "metadata": {}
        },
        {
          "output_type": "display_data",
          "data": {
            "text/plain": [
              "<Figure size 600x300 with 1 Axes>"
            ],
            "image/png": "[encoded data removed]"
          },
          "metadata": {}
        },
        {
          "output_type": "display_data",
          "data": {
            "text/plain": [
              "<Figure size 600x300 with 1 Axes>"
            ],
            "image/png": "[encoded data removed]"
          },
          "metadata": {}
        },
        {
          "output_type": "display_data",
          "data": {
            "text/plain": [
              "<Figure size 600x300 with 1 Axes>"
            ],
            "image/png": "[encoded data removed]"
          },
          "metadata": {}
        },
        {
          "output_type": "display_data",
          "data": {
            "text/plain": [
              "<Figure size 600x300 with 1 Axes>"
            ],
            "image/png": "[encoded data removed]"
          },
          "metadata": {}
        },
        {
          "output_type": "display_data",
          "data": {
            "text/plain": [
              "<Figure size 600x300 with 1 Axes>"
            ],
            "image/png": "[encoded data removed]"
          },
          "metadata": {}
        },
        {
          "output_type": "display_data",
          "data": {
            "text/plain": [
              "<Figure size 600x300 with 1 Axes>"
            ],
            "image/png": "[encoded data removed]"
          },
          "metadata": {}
        }
      ]
    },
    {
      "cell_type": "code",
      "source": [
        "\n",
        "# 14. Split features (X) and target (y)\n",
        "X = df.drop('target_class', axis=1)\n",
        "y = df['target_class']"
      ],
      "metadata": {
        "id": "hks0wrZRoQ4A"
      },
      "execution_count": 17,
      "outputs": []
    },
    {
      "cell_type": "code",
      "source": [
        "# 15. Train-test split (80/20)\n",
        "X_train, X_test, y_train, y_test = train_test_split(X, y, test_size=0.2, random_state=42)\n",
        "\n"
      ],
      "metadata": {
        "id": "lLq4mnZqobk4"
      },
      "execution_count": 18,
      "outputs": []
    },
    {
      "cell_type": "code",
      "source": [
        "# 16. Check the shape\n",
        "print(\"X_train:\", X_train.shape, \"X_test:\", X_test.shape)\n",
        "\n"
      ],
      "metadata": {
        "colab": {
          "base_uri": "https://localhost:8080/"
        },
        "id": "A9SMP2zCohNw",
        "outputId": "858aab2f-7fa9-4530-80cf-546b15fd4e4b"
      },
      "execution_count": 19,
      "outputs": [
        {
          "output_type": "stream",
          "name": "stdout",
          "text": [
            "X_train: (14318, 8) X_test: (3580, 8)\n"
          ]
        }
      ]
    },
    {
      "cell_type": "code",
      "source": [
        "# 17. Feature scaling (important for SVMs!)\n",
        "scaler = StandardScaler()\n",
        "X_train_scaled = scaler.fit_transform(X_train)\n",
        "X_test_scaled = scaler.transform(X_test)\n",
        "\n",
        "### SVM with different kernels and hyperparameters ###\n",
        "\n",
        "# Helper function to train and evaluate\n",
        "def run_svm_model(kernel, C_value):\n",
        "    clf = SVC(kernel=kernel, C=C_value, gamma='auto')\n",
        "    clf.fit(X_train_scaled, y_train)\n",
        "    y_pred_train = clf.predict(X_train_scaled)\n",
        "    y_pred_test = clf.predict(X_test_scaled)\n",
        "    print(f\"\\nSVM with kernel='{kernel}', C={C_value}\")\n",
        "    print(\"Training Accuracy:\", accuracy_score(y_train, y_pred_train))\n",
        "    print(\"Testing Accuracy :\", accuracy_score(y_test, y_pred_test))\n",
        "\n"
      ],
      "metadata": {
        "id": "5le0oRmBolPv"
      },
      "execution_count": 20,
      "outputs": []
    },
    {
      "cell_type": "code",
      "source": [
        "# 18. SVM with default params (kernel='rbf', C=1.0)\n",
        "run_svm_model('rbf', 1.0)\n",
        "\n"
      ],
      "metadata": {
        "colab": {
          "base_uri": "https://localhost:8080/"
        },
        "id": "eIVd_nfjoohg",
        "outputId": "b2f2db2b-8b73-48f3-f460-da9f2f0de1fe"
      },
      "execution_count": 21,
      "outputs": [
        {
          "output_type": "stream",
          "name": "stdout",
          "text": [
            "\n",
            "SVM with kernel='rbf', C=1.0\n",
            "Training Accuracy: 0.9789775108255343\n",
            "Testing Accuracy : 0.979608938547486\n"
          ]
        }
      ]
    },
    {
      "cell_type": "code",
      "source": [
        "# 19. SVM with rbf kernel, C=100\n",
        "run_svm_model('rbf', 100.0)\n",
        "\n"
      ],
      "metadata": {
        "colab": {
          "base_uri": "https://localhost:8080/"
        },
        "id": "zihLB_93orOw",
        "outputId": "2a1a644c-48aa-4a61-930a-36500de81fe9"
      },
      "execution_count": 22,
      "outputs": [
        {
          "output_type": "stream",
          "name": "stdout",
          "text": [
            "\n",
            "SVM with kernel='rbf', C=100.0\n",
            "Training Accuracy: 0.9833077245425339\n",
            "Testing Accuracy : 0.982122905027933\n"
          ]
        }
      ]
    },
    {
      "cell_type": "code",
      "source": [
        "# 20. SVM with rbf kernel, C=1000\n",
        "run_svm_model('rbf', 1000.0)\n",
        "\n"
      ],
      "metadata": {
        "colab": {
          "base_uri": "https://localhost:8080/"
        },
        "id": "Jx51mLEKovJA",
        "outputId": "01dfc514-78f5-410e-c689-84c0259f89fc"
      },
      "execution_count": 23,
      "outputs": [
        {
          "output_type": "stream",
          "name": "stdout",
          "text": [
            "\n",
            "SVM with kernel='rbf', C=1000.0\n",
            "Training Accuracy: 0.9850537784606789\n",
            "Testing Accuracy : 0.9801675977653631\n"
          ]
        }
      ]
    },
    {
      "cell_type": "code",
      "source": [
        "# 21. SVM with linear kernel, C=1.0\n",
        "run_svm_model('linear', 1.0)\n",
        "\n"
      ],
      "metadata": {
        "colab": {
          "base_uri": "https://localhost:8080/"
        },
        "id": "sNJX3XYDozIh",
        "outputId": "8df5023a-a072-4a43-89d7-f4121dc2b5ff"
      },
      "execution_count": 24,
      "outputs": [
        {
          "output_type": "stream",
          "name": "stdout",
          "text": [
            "\n",
            "SVM with kernel='linear', C=1.0\n",
            "Training Accuracy: 0.9789775108255343\n",
            "Testing Accuracy : 0.9787709497206704\n"
          ]
        }
      ]
    },
    {
      "cell_type": "code",
      "source": [
        "# 22. SVM with linear kernel, C=100.0\n",
        "run_svm_model('linear', 100.0)\n",
        "\n"
      ],
      "metadata": {
        "colab": {
          "base_uri": "https://localhost:8080/"
        },
        "id": "OIsHSn1To1pH",
        "outputId": "f6261b4c-6c1d-4e5f-dd6b-99913a705932"
      },
      "execution_count": 25,
      "outputs": [
        {
          "output_type": "stream",
          "name": "stdout",
          "text": [
            "\n",
            "SVM with kernel='linear', C=100.0\n",
            "Training Accuracy: 0.9794664059226149\n",
            "Testing Accuracy : 0.979050279329609\n"
          ]
        }
      ]
    },
    {
      "cell_type": "code",
      "source": [
        "# 23. SVM with linear kernel, C=1000.0\n",
        "run_svm_model('linear', 1000.0)\n",
        "\n",
        "\n"
      ],
      "metadata": {
        "colab": {
          "base_uri": "https://localhost:8080/"
        },
        "id": "MhJS-Jx4o4FI",
        "outputId": "06b28278-94df-437f-90c2-b8d70a578c06"
      },
      "execution_count": 26,
      "outputs": [
        {
          "output_type": "stream",
          "name": "stdout",
          "text": [
            "\n",
            "SVM with kernel='linear', C=1000.0\n",
            "Training Accuracy: 0.9793965637658891\n",
            "Testing Accuracy : 0.979050279329609\n"
          ]
        }
      ]
    },
    {
      "cell_type": "code",
      "source": [
        "# 24. SVM with polynomial kernel, C=1.0\n",
        "run_svm_model('poly', 1.0)\n",
        "\n"
      ],
      "metadata": {
        "colab": {
          "base_uri": "https://localhost:8080/"
        },
        "id": "-wWc_4gGo6WY",
        "outputId": "2b294198-0da0-41ab-9579-107a87921a88"
      },
      "execution_count": 27,
      "outputs": [
        {
          "output_type": "stream",
          "name": "stdout",
          "text": [
            "\n",
            "SVM with kernel='poly', C=1.0\n",
            "Training Accuracy: 0.9775108255342925\n",
            "Testing Accuracy : 0.9784916201117319\n"
          ]
        }
      ]
    },
    {
      "cell_type": "code",
      "source": [
        "# 25. SVM with polynomial kernel, C=100.0\n",
        "run_svm_model('poly', 100.0)\n"
      ],
      "metadata": {
        "colab": {
          "base_uri": "https://localhost:8080/"
        },
        "id": "foAgPYXDo8GC",
        "outputId": "4cdbd9a7-4ab0-49b0-944d-ad3eb0f9208e"
      },
      "execution_count": 28,
      "outputs": [
        {
          "output_type": "stream",
          "name": "stdout",
          "text": [
            "\n",
            "SVM with kernel='poly', C=100.0\n",
            "Training Accuracy: 0.9801648274898729\n",
            "Testing Accuracy : 0.9804469273743017\n"
          ]
        }
      ]
    },
    {
      "cell_type": "code",
      "source": [
        "\n",
        "# 26. SVM with sigmoid kernel, C=1.0\n",
        "run_svm_model('sigmoid', 1.0)\n"
      ],
      "metadata": {
        "colab": {
          "base_uri": "https://localhost:8080/"
        },
        "id": "aZXg_YWVo9do",
        "outputId": "35e4f864-ed7a-446a-94ad-4bc9621f3450"
      },
      "execution_count": 29,
      "outputs": [
        {
          "output_type": "stream",
          "name": "stdout",
          "text": [
            "\n",
            "SVM with kernel='sigmoid', C=1.0\n",
            "Training Accuracy: 0.8711412208408996\n",
            "Testing Accuracy : 0.8751396648044693\n"
          ]
        }
      ]
    },
    {
      "cell_type": "code",
      "source": [
        "\n",
        "# 27. SVM with sigmoid kernel, C=100.0\n",
        "run_svm_model('sigmoid', 100.0)"
      ],
      "metadata": {
        "colab": {
          "base_uri": "https://localhost:8080/"
        },
        "id": "6AmkYkJZo-1p",
        "outputId": "c3658188-bc43-48e9-f080-5762f9e708b4"
      },
      "execution_count": 30,
      "outputs": [
        {
          "output_type": "stream",
          "name": "stdout",
          "text": [
            "\n",
            "SVM with kernel='sigmoid', C=100.0\n",
            "Training Accuracy: 0.8711412208408996\n",
            "Testing Accuracy : 0.8748603351955307\n"
          ]
        }
      ]
    }
  ]
}